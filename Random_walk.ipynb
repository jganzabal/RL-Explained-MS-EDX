{
 "cells": [
  {
   "cell_type": "code",
   "execution_count": 1,
   "metadata": {},
   "outputs": [],
   "source": [
    "%load_ext autoreload\n",
    "%autoreload 2"
   ]
  },
  {
   "cell_type": "code",
   "execution_count": 2,
   "metadata": {},
   "outputs": [],
   "source": [
    "import gridworld_mdp as gw\n",
    "import numpy as np\n",
    "from td_utils import policy_eval_MC, policy_evel_TD0, policy_eval_two_arrays, get_equal_policy"
   ]
  },
  {
   "cell_type": "code",
   "execution_count": 3,
   "metadata": {},
   "outputs": [
    {
     "data": {
      "text/plain": [
       "array([ 0.        , -5.32854698, -7.24326783, -7.7642399 , -5.26226435,\n",
       "       -6.62526556, -7.24554479, -7.27415841, -7.07475404, -7.20894566,\n",
       "       -6.66951359, -5.50531425, -7.64831142, -7.10461349, -5.42679628])"
      ]
     },
     "execution_count": 3,
     "metadata": {},
     "output_type": "execute_result"
    }
   ],
   "source": [
    "np.random.seed(33)\n",
    "policy = [0.25, 0.25, 0.25, 0.25]\n",
    "gamma = 0.9\n",
    "policy_eval_MC(gw, policy, gamma, episodes = 1000, rseed = 33)"
   ]
  },
  {
   "cell_type": "code",
   "execution_count": 4,
   "metadata": {},
   "outputs": [
    {
     "data": {
      "text/plain": [
       "array([ 0.        , -4.92243601, -6.95178294, -7.5024948 , -4.86394244,\n",
       "       -6.84815341, -7.12583339, -7.0586211 , -7.20563338, -7.16308932,\n",
       "       -6.49094847, -4.98285754, -7.62230476, -7.07967497, -5.20195874])"
      ]
     },
     "execution_count": 4,
     "metadata": {},
     "output_type": "execute_result"
    }
   ],
   "source": [
    "np.random.seed(33)\n",
    "policy = [0.25, 0.25, 0.25, 0.25]\n",
    "gamma = 0.9\n",
    "policy_evel_TD0(gw, policy, gamma, alpha = 0.05, episodes=1000)"
   ]
  },
  {
   "cell_type": "code",
   "execution_count": 5,
   "metadata": {},
   "outputs": [
    {
     "name": "stdout",
     "output_type": "stream",
     "text": [
      "numero de iteraciones: 46\n",
      "[0.0, -5.274709263277986, -7.123800104889248, -7.64536148969558, -5.274709263277987, -6.602238720082915, -7.17604178238719, -7.1238001048892485, -7.1238001048892485, -7.176041782387191, -6.602238720082915, -5.274709263277986, -7.645361489695581, -7.1238001048892485, -5.274709263277986]\n"
     ]
    }
   ],
   "source": [
    "V = policy_eval_two_arrays(state_count=gw.get_state_count(), \n",
    "                           gamma=.9, theta=.001, \n",
    "                           get_policy=get_equal_policy,\n",
    "                           get_transitions=gw.get_transitions)\n",
    "print(V)"
   ]
  },
  {
   "cell_type": "code",
   "execution_count": 6,
   "metadata": {},
   "outputs": [],
   "source": [
    "import random_walk as rw"
   ]
  },
  {
   "cell_type": "code",
   "execution_count": 7,
   "metadata": {},
   "outputs": [],
   "source": [
    "rw.set_states(7)"
   ]
  },
  {
   "cell_type": "code",
   "execution_count": 8,
   "metadata": {},
   "outputs": [
    {
     "name": "stdout",
     "output_type": "stream",
     "text": [
      "numero de iteraciones: 68\n",
      "[0.0, 0.16664783183684406, 0.33330508108859946, 0.4999623303403548, 0.6666384144219328, 0.8333144985035108, 0.0]\n"
     ]
    }
   ],
   "source": [
    "def get_equal_policy_rw(state):\n",
    "    # build a simple policy where all 4 actions have the same probability, ignoring the specified state\n",
    "    policy = ((\"right\", .5), (\"left\", .5))\n",
    "    return policy\n",
    "\n",
    "\n",
    "V_DP = policy_eval_two_arrays(state_count=rw.get_state_count(), \n",
    "                           gamma=1, theta=.00001, \n",
    "                           get_policy=get_equal_policy_rw,\n",
    "                           get_transitions=rw.get_transitions)\n",
    "print(V_DP)"
   ]
  },
  {
   "cell_type": "markdown",
   "metadata": {},
   "source": [
    "# Montecarlo"
   ]
  },
  {
   "cell_type": "code",
   "execution_count": 9,
   "metadata": {},
   "outputs": [
    {
     "name": "stdout",
     "output_type": "stream",
     "text": [
      "[0.         0.15165877 0.30750605 0.47058824 0.64       0.82142857\n",
      " 0.        ]\n",
      "[0.         0.15165877 0.30750605 0.47058824 0.64       0.82142857\n",
      " 0.        ]\n"
     ]
    }
   ],
   "source": [
    "policy = [0.5, 0.5]\n",
    "gamma = 1\n",
    "initial_V = np.zeros(rw.get_state_count())\n",
    "np.random.seed(12)\n",
    "V_MC_zeros = policy_eval_MC(rw, policy, gamma, episodes = 1000, rseed = 33, ending_states=[0, rw.get_state_count()-1], V = initial_V)\n",
    "print(V_MC_zeros)\n",
    "np.random.seed(12)\n",
    "initial_V = np.random.random(rw.get_state_count())\n",
    "V_MC_random = policy_eval_MC(rw, policy, gamma, episodes = 1000, rseed = 33, ending_states=[0, rw.get_state_count()-1], V = initial_V)\n",
    "print(V_MC_random)"
   ]
  },
  {
   "cell_type": "markdown",
   "metadata": {},
   "source": [
    "# TD0\n",
    "Ver como es muy dependiente de los valores iniciales"
   ]
  },
  {
   "cell_type": "code",
   "execution_count": 27,
   "metadata": {},
   "outputs": [
    {
     "name": "stdout",
     "output_type": "stream",
     "text": [
      "[0.         0.16835042 0.33795448 0.49992487 0.67080656 0.83874119\n",
      " 0.        ]\n",
      "[0.15416284 0.4511658  0.74738031 1.02404163 1.33179449 1.6190681\n",
      " 0.90071485]\n"
     ]
    }
   ],
   "source": [
    "np.random.seed(12)\n",
    "initial_V = np.zeros(rw.get_state_count())\n",
    "alpha = 0.01\n",
    "episodes = 10000\n",
    "V_TD0_zeros = policy_evel_TD0(rw, policy, gamma, alpha = alpha, episodes=episodes, ending_states=[0, rw.get_state_count()-1], V = initial_V)\n",
    "print(V_TD0_zeros)\n",
    "np.random.seed(12)\n",
    "initial_V = np.random.random(rw.get_state_count())\n",
    "V_TD0_random = policy_evel_TD0(rw, policy, gamma, alpha = alpha, episodes=episodes, ending_states=[0, rw.get_state_count()-1], V = initial_V)\n",
    "print(V_TD0_random)"
   ]
  },
  {
   "cell_type": "code",
   "execution_count": 33,
   "metadata": {},
   "outputs": [
    {
     "data": {
      "image/png": "[encoded data removed]",
      "text/plain": [
       "<Figure size 432x288 with 1 Axes>"
      ]
     },
     "metadata": {},
     "output_type": "display_data"
    }
   ],
   "source": [
    "from matplotlib import pyplot as plt\n",
    "\n",
    "plt.plot(V_DP[1:-1], c = 'b', marker='x', label = 'Dynamic Programming')\n",
    "plt.plot(V_MC_random[1:-1], c='r', marker='x', label = 'Monte Carlo')\n",
    "plt.plot(V_TD0_zeros[1:-1], c='g', marker='x', label = 'TD0')\n",
    "# plt.plot(V_TD0_random[1:-1], c='g', marker='x', label = 'TD0 random')\n",
    "plt.legend()\n",
    "plt.show()"
   ]
  },
  {
   "cell_type": "markdown",
   "metadata": {},
   "source": [
    "# TD0 diferente cantidad de iteraciones"
   ]
  },
  {
   "cell_type": "code",
   "execution_count": 37,
   "metadata": {},
   "outputs": [],
   "source": [
    "initial_V = 0.5*np.ones(rw.get_state_count())\n",
    "alpha = 0.1\n",
    "iterations = [0, 1, 10, 100]\n",
    "results = []\n",
    "for episodes in iterations:\n",
    "    np.random.seed(20)\n",
    "    V = policy_evel_TD0(rw, policy, gamma, alpha = alpha, episodes=episodes, ending_states=[0, rw.get_state_count()-1], V = initial_V)\n",
    "    results.append(V)"
   ]
  },
  {
   "cell_type": "code",
   "execution_count": 38,
   "metadata": {},
   "outputs": [
    {
     "data": {
      "text/plain": [
       "[array([0.5, 0.5, 0.5, 0.5, 0.5, 0.5, 0.5]),\n",
       " array([0.5, 0.5, 0.5, 0.5, 0.5, 0.6, 0.5]),\n",
       " array([0.5       , 0.5000059 , 0.50013414, 0.50475307, 0.5542346 ,\n",
       "        0.81301196, 0.5       ]),\n",
       " array([0.5       , 0.57282365, 0.72760457, 0.93858147, 1.11993202,\n",
       "        1.33861219, 0.5       ])]"
      ]
     },
     "execution_count": 38,
     "metadata": {},
     "output_type": "execute_result"
    }
   ],
   "source": [
    "results"
   ]
  },
  {
   "cell_type": "code",
   "execution_count": 39,
   "metadata": {},
   "outputs": [
    {
     "data": {
      "text/plain": [
       "<matplotlib.legend.Legend at 0x111d28128>"
      ]
     },
     "execution_count": 39,
     "metadata": {},
     "output_type": "execute_result"
    },
    {
     "data": {
      "image/png": "[encoded data removed]",
      "text/plain": [
       "<Figure size 432x288 with 1 Axes>"
      ]
     },
     "metadata": {},
     "output_type": "display_data"
    }
   ],
   "source": [
    "for i, r in enumerate(results):\n",
    "    plt.plot(r[1:-1], label = iterations[i])\n",
    "plt.legend()"
   ]
  },
  {
   "cell_type": "code",
   "execution_count": null,
   "metadata": {},
   "outputs": [],
   "source": []
  }
 ],
 "metadata": {
  "kernelspec": {
   "display_name": "Python 3",
   "language": "python",
   "name": "python3"
  },
  "language_info": {
   "codemirror_mode": {
    "name": "ipython",
    "version": 3
   },
   "file_extension": ".py",
   "mimetype": "text/x-python",
   "name": "python",
   "nbconvert_exporter": "python",
   "pygments_lexer": "ipython3",
   "version": "3.6.6"
  }
 },
 "nbformat": 4,
 "nbformat_minor": 2
}
